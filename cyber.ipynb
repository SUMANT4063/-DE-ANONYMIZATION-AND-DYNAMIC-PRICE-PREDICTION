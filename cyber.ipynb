{
 "cells": [
  {
   "cell_type": "code",
   "execution_count": 1,
   "id": "8837f803-63e8-4d4d-b26d-e72c85e276d0",
   "metadata": {},
   "outputs": [],
   "source": [
    "import pandas as pd\n",
    "import numpy as np\n",
    "from sklearn.model_selection import train_test_split\n",
    "from sklearn.preprocessing import StandardScaler, LabelEncoder\n",
    "from sklearn.ensemble import RandomForestClassifier\n",
    "from sklearn.metrics import accuracy_score, classification_report"
   ]
  },
  {
   "cell_type": "code",
   "execution_count": 2,
   "id": "3dccfcb0-b322-4148-96e3-fea7d15c45b9",
   "metadata": {},
   "outputs": [
    {
     "data": {
      "text/html": [
       "<div>\n",
       "<style scoped>\n",
       "    .dataframe tbody tr th:only-of-type {\n",
       "        vertical-align: middle;\n",
       "    }\n",
       "\n",
       "    .dataframe tbody tr th {\n",
       "        vertical-align: top;\n",
       "    }\n",
       "\n",
       "    .dataframe thead th {\n",
       "        text-align: right;\n",
       "    }\n",
       "</style>\n",
       "<table border=\"1\" class=\"dataframe\">\n",
       "  <thead>\n",
       "    <tr style=\"text-align: right;\">\n",
       "      <th></th>\n",
       "      <th>Unnamed: 0</th>\n",
       "      <th>Index</th>\n",
       "      <th>Address</th>\n",
       "      <th>FLAG</th>\n",
       "      <th>Avg min between sent tnx</th>\n",
       "      <th>Avg min between received tnx</th>\n",
       "      <th>Time Diff between first and last (Mins)</th>\n",
       "      <th>Sent tnx</th>\n",
       "      <th>Received Tnx</th>\n",
       "      <th>Number of Created Contracts</th>\n",
       "      <th>...</th>\n",
       "      <th>ERC20 min val sent</th>\n",
       "      <th>ERC20 max val sent</th>\n",
       "      <th>ERC20 avg val sent</th>\n",
       "      <th>ERC20 min val sent contract</th>\n",
       "      <th>ERC20 max val sent contract</th>\n",
       "      <th>ERC20 avg val sent contract</th>\n",
       "      <th>ERC20 uniq sent token name</th>\n",
       "      <th>ERC20 uniq rec token name</th>\n",
       "      <th>ERC20 most sent token type</th>\n",
       "      <th>ERC20_most_rec_token_type</th>\n",
       "    </tr>\n",
       "  </thead>\n",
       "  <tbody>\n",
       "    <tr>\n",
       "      <th>0</th>\n",
       "      <td>0</td>\n",
       "      <td>1</td>\n",
       "      <td>0x00009277775ac7d0d59eaad8fee3d10ac6c805e8</td>\n",
       "      <td>0</td>\n",
       "      <td>844.26</td>\n",
       "      <td>1093.71</td>\n",
       "      <td>704785.63</td>\n",
       "      <td>721</td>\n",
       "      <td>89</td>\n",
       "      <td>0</td>\n",
       "      <td>...</td>\n",
       "      <td>0.000000</td>\n",
       "      <td>1.683100e+07</td>\n",
       "      <td>271779.920000</td>\n",
       "      <td>0.0</td>\n",
       "      <td>0.0</td>\n",
       "      <td>0.0</td>\n",
       "      <td>39.0</td>\n",
       "      <td>57.0</td>\n",
       "      <td>Cofoundit</td>\n",
       "      <td>Numeraire</td>\n",
       "    </tr>\n",
       "    <tr>\n",
       "      <th>1</th>\n",
       "      <td>1</td>\n",
       "      <td>2</td>\n",
       "      <td>0x0002b44ddb1476db43c868bd494422ee4c136fed</td>\n",
       "      <td>0</td>\n",
       "      <td>12709.07</td>\n",
       "      <td>2958.44</td>\n",
       "      <td>1218216.73</td>\n",
       "      <td>94</td>\n",
       "      <td>8</td>\n",
       "      <td>0</td>\n",
       "      <td>...</td>\n",
       "      <td>2.260809</td>\n",
       "      <td>2.260809e+00</td>\n",
       "      <td>2.260809</td>\n",
       "      <td>0.0</td>\n",
       "      <td>0.0</td>\n",
       "      <td>0.0</td>\n",
       "      <td>1.0</td>\n",
       "      <td>7.0</td>\n",
       "      <td>Livepeer Token</td>\n",
       "      <td>Livepeer Token</td>\n",
       "    </tr>\n",
       "    <tr>\n",
       "      <th>2</th>\n",
       "      <td>2</td>\n",
       "      <td>3</td>\n",
       "      <td>0x0002bda54cb772d040f779e88eb453cac0daa244</td>\n",
       "      <td>0</td>\n",
       "      <td>246194.54</td>\n",
       "      <td>2434.02</td>\n",
       "      <td>516729.30</td>\n",
       "      <td>2</td>\n",
       "      <td>10</td>\n",
       "      <td>0</td>\n",
       "      <td>...</td>\n",
       "      <td>0.000000</td>\n",
       "      <td>0.000000e+00</td>\n",
       "      <td>0.000000</td>\n",
       "      <td>0.0</td>\n",
       "      <td>0.0</td>\n",
       "      <td>0.0</td>\n",
       "      <td>0.0</td>\n",
       "      <td>8.0</td>\n",
       "      <td>NaN</td>\n",
       "      <td>XENON</td>\n",
       "    </tr>\n",
       "    <tr>\n",
       "      <th>3</th>\n",
       "      <td>3</td>\n",
       "      <td>4</td>\n",
       "      <td>0x00038e6ba2fd5c09aedb96697c8d7b8fa6632e5e</td>\n",
       "      <td>0</td>\n",
       "      <td>10219.60</td>\n",
       "      <td>15785.09</td>\n",
       "      <td>397555.90</td>\n",
       "      <td>25</td>\n",
       "      <td>9</td>\n",
       "      <td>0</td>\n",
       "      <td>...</td>\n",
       "      <td>100.000000</td>\n",
       "      <td>9.029231e+03</td>\n",
       "      <td>3804.076893</td>\n",
       "      <td>0.0</td>\n",
       "      <td>0.0</td>\n",
       "      <td>0.0</td>\n",
       "      <td>1.0</td>\n",
       "      <td>11.0</td>\n",
       "      <td>Raiden</td>\n",
       "      <td>XENON</td>\n",
       "    </tr>\n",
       "    <tr>\n",
       "      <th>4</th>\n",
       "      <td>4</td>\n",
       "      <td>5</td>\n",
       "      <td>0x00062d1dd1afb6fb02540ddad9cdebfe568e0d89</td>\n",
       "      <td>0</td>\n",
       "      <td>36.61</td>\n",
       "      <td>10707.77</td>\n",
       "      <td>382472.42</td>\n",
       "      <td>4598</td>\n",
       "      <td>20</td>\n",
       "      <td>1</td>\n",
       "      <td>...</td>\n",
       "      <td>0.000000</td>\n",
       "      <td>4.500000e+04</td>\n",
       "      <td>13726.659220</td>\n",
       "      <td>0.0</td>\n",
       "      <td>0.0</td>\n",
       "      <td>0.0</td>\n",
       "      <td>6.0</td>\n",
       "      <td>27.0</td>\n",
       "      <td>StatusNetwork</td>\n",
       "      <td>EOS</td>\n",
       "    </tr>\n",
       "  </tbody>\n",
       "</table>\n",
       "<p>5 rows × 51 columns</p>\n",
       "</div>"
      ],
      "text/plain": [
       "   Unnamed: 0  Index                                     Address  FLAG  \\\n",
       "0           0      1  0x00009277775ac7d0d59eaad8fee3d10ac6c805e8     0   \n",
       "1           1      2  0x0002b44ddb1476db43c868bd494422ee4c136fed     0   \n",
       "2           2      3  0x0002bda54cb772d040f779e88eb453cac0daa244     0   \n",
       "3           3      4  0x00038e6ba2fd5c09aedb96697c8d7b8fa6632e5e     0   \n",
       "4           4      5  0x00062d1dd1afb6fb02540ddad9cdebfe568e0d89     0   \n",
       "\n",
       "   Avg min between sent tnx  Avg min between received tnx  \\\n",
       "0                    844.26                       1093.71   \n",
       "1                  12709.07                       2958.44   \n",
       "2                 246194.54                       2434.02   \n",
       "3                  10219.60                      15785.09   \n",
       "4                     36.61                      10707.77   \n",
       "\n",
       "   Time Diff between first and last (Mins)  Sent tnx  Received Tnx  \\\n",
       "0                                704785.63       721            89   \n",
       "1                               1218216.73        94             8   \n",
       "2                                516729.30         2            10   \n",
       "3                                397555.90        25             9   \n",
       "4                                382472.42      4598            20   \n",
       "\n",
       "   Number of Created Contracts  ...   ERC20 min val sent   ERC20 max val sent  \\\n",
       "0                            0  ...             0.000000         1.683100e+07   \n",
       "1                            0  ...             2.260809         2.260809e+00   \n",
       "2                            0  ...             0.000000         0.000000e+00   \n",
       "3                            0  ...           100.000000         9.029231e+03   \n",
       "4                            1  ...             0.000000         4.500000e+04   \n",
       "\n",
       "    ERC20 avg val sent   ERC20 min val sent contract  \\\n",
       "0        271779.920000                           0.0   \n",
       "1             2.260809                           0.0   \n",
       "2             0.000000                           0.0   \n",
       "3          3804.076893                           0.0   \n",
       "4         13726.659220                           0.0   \n",
       "\n",
       "    ERC20 max val sent contract   ERC20 avg val sent contract  \\\n",
       "0                           0.0                           0.0   \n",
       "1                           0.0                           0.0   \n",
       "2                           0.0                           0.0   \n",
       "3                           0.0                           0.0   \n",
       "4                           0.0                           0.0   \n",
       "\n",
       "    ERC20 uniq sent token name   ERC20 uniq rec token name  \\\n",
       "0                         39.0                        57.0   \n",
       "1                          1.0                         7.0   \n",
       "2                          0.0                         8.0   \n",
       "3                          1.0                        11.0   \n",
       "4                          6.0                        27.0   \n",
       "\n",
       "    ERC20 most sent token type   ERC20_most_rec_token_type  \n",
       "0                    Cofoundit                   Numeraire  \n",
       "1               Livepeer Token              Livepeer Token  \n",
       "2                          NaN                       XENON  \n",
       "3                       Raiden                       XENON  \n",
       "4                StatusNetwork                         EOS  \n",
       "\n",
       "[5 rows x 51 columns]"
      ]
     },
     "execution_count": 2,
     "metadata": {},
     "output_type": "execute_result"
    }
   ],
   "source": [
    "df = pd.read_csv('transactions.csv')\n",
    "df.head()"
   ]
  },
  {
   "cell_type": "code",
   "execution_count": 3,
   "id": "7af854b1-1c59-4950-8f94-b55a3c6b1506",
   "metadata": {},
   "outputs": [],
   "source": [
    "df.drop(columns=[\"Unnamed: 0\", \"Index\", \"Address\"], inplace=True)\n",
    "df = df.dropna()"
   ]
  },
  {
   "cell_type": "code",
   "execution_count": 4,
   "id": "9ff15786-857f-482b-bb77-48c0f34af000",
   "metadata": {},
   "outputs": [
    {
     "data": {
      "text/plain": [
       "Index(['FLAG', 'Avg min between sent tnx', 'Avg min between received tnx',\n",
       "       'Time Diff between first and last (Mins)', 'Sent tnx', 'Received Tnx',\n",
       "       'Number of Created Contracts', 'Unique Received From Addresses',\n",
       "       'Unique Sent To Addresses', 'min value received', 'max value received ',\n",
       "       'avg val received', 'min val sent', 'max val sent', 'avg val sent',\n",
       "       'min value sent to contract', 'max val sent to contract',\n",
       "       'avg value sent to contract',\n",
       "       'total transactions (including tnx to create contract',\n",
       "       'total Ether sent', 'total ether received',\n",
       "       'total ether sent contracts', 'total ether balance',\n",
       "       ' Total ERC20 tnxs', ' ERC20 total Ether received',\n",
       "       ' ERC20 total ether sent', ' ERC20 total Ether sent contract',\n",
       "       ' ERC20 uniq sent addr', ' ERC20 uniq rec addr',\n",
       "       ' ERC20 uniq sent addr.1', ' ERC20 uniq rec contract addr',\n",
       "       ' ERC20 avg time between sent tnx', ' ERC20 avg time between rec tnx',\n",
       "       ' ERC20 avg time between rec 2 tnx',\n",
       "       ' ERC20 avg time between contract tnx', ' ERC20 min val rec',\n",
       "       ' ERC20 max val rec', ' ERC20 avg val rec', ' ERC20 min val sent',\n",
       "       ' ERC20 max val sent', ' ERC20 avg val sent',\n",
       "       ' ERC20 min val sent contract', ' ERC20 max val sent contract',\n",
       "       ' ERC20 avg val sent contract', ' ERC20 uniq sent token name',\n",
       "       ' ERC20 uniq rec token name', ' ERC20 most sent token type',\n",
       "       ' ERC20_most_rec_token_type'],\n",
       "      dtype='object')"
      ]
     },
     "execution_count": 4,
     "metadata": {},
     "output_type": "execute_result"
    }
   ],
   "source": [
    "df.columns"
   ]
  },
  {
   "cell_type": "code",
   "execution_count": 5,
   "id": "47518826-fb53-4ee5-a2ab-689487f43eea",
   "metadata": {},
   "outputs": [],
   "source": [
    "df.rename(columns={\n",
    "    'FLAG': 'FLAG',\n",
    "    'Avg min between sent tnx': 'Avg_min_between_sent_tnx',\n",
    "    'Avg min between received tnx': 'Avg_min_between_received_tnx',\n",
    "    'Time Diff between first and last (Mins)': 'Time_Diff_between_first_and_last_Mins',\n",
    "    'Sent tnx': 'Sent_tnx',\n",
    "    'Received Tnx': 'Received_tnx',\n",
    "    'Number of Created Contracts': 'Number_of_Created_Contracts',\n",
    "    'Unique Received From Addresses': 'Unique_Received_From_Addresses',\n",
    "    'Unique Sent To Addresses': 'Unique_Sent_To_Addresses',\n",
    "    'min value received': 'Min_value_received',\n",
    "    'max value received ': 'Max_value_received',\n",
    "    'avg val received': 'Avg_value_received',\n",
    "    'min val sent': 'Min_value_sent',\n",
    "    'max val sent': 'Max_value_sent',\n",
    "    'avg val sent': 'Avg_value_sent',\n",
    "    'min value sent to contract': 'Min_value_sent_to_contract',\n",
    "    'max val sent to contract': 'Max_value_sent_to_contract',\n",
    "    'avg value sent to contract': 'Avg_value_sent_to_contract',\n",
    "    'total transactions (including tnx to create contract': 'Total_transactions_including_tnx_to_create_contract',\n",
    "    'total Ether sent': 'Total_Ether_sent',\n",
    "    'total ether received': 'Total_Ether_received',\n",
    "    'total ether sent contracts': 'Total_Ether_sent_contracts',\n",
    "    'total ether balance': 'Total_Ether_balance',\n",
    "    ' Total ERC20 tnxs': 'Total_ERC20_tnxs',\n",
    "    ' ERC20 total Ether received': 'ERC20_total_Ether_received',\n",
    "    ' ERC20 total ether sent': 'ERC20_total_Ether_sent',\n",
    "    ' ERC20 total Ether sent contract': 'ERC20_total_Ether_sent_contract',\n",
    "    ' ERC20 uniq sent addr': 'ERC20_unique_sent_addr',\n",
    "    ' ERC20 uniq rec addr': 'ERC20_unique_received_addr',\n",
    "    ' ERC20 uniq sent addr.1': 'ERC20_unique_sent_addr_1',\n",
    "    ' ERC20 uniq rec contract addr': 'ERC20_unique_received_contract_addr',\n",
    "    ' ERC20 avg time between sent tnx': 'ERC20_avg_time_between_sent_tnx',\n",
    "    ' ERC20 avg time between rec tnx': 'ERC20_avg_time_between_received_tnx',\n",
    "    ' ERC20 avg time between rec 2 tnx': 'ERC20_avg_time_between_received_2_tnx',\n",
    "    ' ERC20 avg time between contract tnx': 'ERC20_avg_time_between_contract_tnx',\n",
    "    ' ERC20 min val rec': 'ERC20_min_value_received',\n",
    "    ' ERC20 max val rec': 'ERC20_max_value_received',\n",
    "    ' ERC20 avg val rec': 'ERC20_avg_value_received',\n",
    "    ' ERC20 min val sent': 'ERC20_min_value_sent',\n",
    "    ' ERC20 max val sent': 'ERC20_max_value_sent',\n",
    "    ' ERC20 avg val sent': 'ERC20_avg_value_sent',\n",
    "    ' ERC20 min val sent contract': 'ERC20_min_value_sent_contract',\n",
    "    ' ERC20 max val sent contract': 'ERC20_max_value_sent_contract',\n",
    "    ' ERC20 avg val sent contract': 'ERC20_avg_value_sent_contract',\n",
    "    ' ERC20 uniq sent token name': 'ERC20_unique_sent_token_name',\n",
    "    ' ERC20 uniq rec token name': 'ERC20_unique_received_token_name',\n",
    "    ' ERC20 most sent token type': 'ERC20_most_sent_token_type',\n",
    "    ' ERC20_most_rec_token_type': 'ERC20_most_received_token_type'\n",
    "}, inplace=True)\n"
   ]
  },
  {
   "cell_type": "code",
   "execution_count": 14,
   "id": "90b05adf-2cb2-4d5d-8a18-e781ce05551b",
   "metadata": {},
   "outputs": [
    {
     "data": {
      "text/plain": [
       "Index(['FLAG', 'Avg_min_between_sent_tnx', 'Avg_min_between_received_tnx',\n",
       "       'Time_Diff_between_first_and_last_Mins', 'Sent_tnx', 'Received_tnx',\n",
       "       'Number_of_Created_Contracts', 'Unique_Received_From_Addresses',\n",
       "       'Unique_Sent_To_Addresses', 'Min_value_received', 'Max_value_received',\n",
       "       'Avg_value_received', 'Min_value_sent', 'Max_value_sent',\n",
       "       'Avg_value_sent', 'Min_value_sent_to_contract',\n",
       "       'Max_value_sent_to_contract', 'Avg_value_sent_to_contract',\n",
       "       'Total_transactions_including_tnx_to_create_contract',\n",
       "       'Total_Ether_sent', 'Total_Ether_received',\n",
       "       'Total_Ether_sent_contracts', 'Total_Ether_balance', 'Total_ERC20_tnxs',\n",
       "       'ERC20_total_Ether_received', 'ERC20_total_Ether_sent',\n",
       "       'ERC20_total_Ether_sent_contract', 'ERC20_unique_sent_addr',\n",
       "       'ERC20_unique_received_addr', 'ERC20_unique_sent_addr_1',\n",
       "       'ERC20_unique_received_contract_addr',\n",
       "       'ERC20_avg_time_between_sent_tnx',\n",
       "       'ERC20_avg_time_between_received_tnx',\n",
       "       'ERC20_avg_time_between_received_2_tnx',\n",
       "       'ERC20_avg_time_between_contract_tnx', 'ERC20_min_value_received',\n",
       "       'ERC20_max_value_received', 'ERC20_avg_value_received',\n",
       "       'ERC20_min_value_sent', 'ERC20_max_value_sent', 'ERC20_avg_value_sent',\n",
       "       'ERC20_min_value_sent_contract', 'ERC20_max_value_sent_contract',\n",
       "       'ERC20_avg_value_sent_contract', 'ERC20_unique_sent_token_name',\n",
       "       'ERC20_unique_received_token_name', 'ERC20_most_sent_token_type',\n",
       "       'ERC20_most_received_token_type'],\n",
       "      dtype='object')"
      ]
     },
     "execution_count": 14,
     "metadata": {},
     "output_type": "execute_result"
    }
   ],
   "source": [
    "df.columns"
   ]
  },
  {
   "cell_type": "code",
   "execution_count": 6,
   "id": "ec7a7624-1272-4609-a3c9-9e7a0abd18e1",
   "metadata": {},
   "outputs": [],
   "source": [
    "categorical_cols = df.select_dtypes(include=[\"object\"]).columns\n",
    "\n",
    "# Encode categorical features using Label Encoding\n",
    "label_encoders = {}\n",
    "for col in categorical_cols:\n",
    "    le = LabelEncoder()\n",
    "    df[col] = le.fit_transform(df[col].astype(str))  # Convert non-null object to string before encoding\n",
    "    label_encoders[col] = le  # Store encoder for future decoding if needed\n"
   ]
  },
  {
   "cell_type": "code",
   "execution_count": 7,
   "id": "20f4d353-1451-4e52-b777-a7b153724612",
   "metadata": {},
   "outputs": [],
   "source": [
    "X = df.drop(columns=[\"FLAG\"])\n",
    "y = df[\"FLAG\"]"
   ]
  },
  {
   "cell_type": "code",
   "execution_count": 8,
   "id": "5f4702c4-931b-49ba-8937-cb6016f3a37f",
   "metadata": {},
   "outputs": [],
   "source": [
    "scaler = StandardScaler()\n",
    "X = pd.DataFrame(scaler.fit_transform(X), columns=X.columns)"
   ]
  },
  {
   "cell_type": "code",
   "execution_count": 9,
   "id": "295cd576-3b73-4a33-9f81-66bb6794f551",
   "metadata": {},
   "outputs": [
    {
     "name": "stdout",
     "output_type": "stream",
     "text": [
      "NUMBER OF TRAIN DATASET    :  5696\n",
      "NUMBER OF TEST DATASET      :  1425\n",
      "TOTAL NUMBER OF DATASET    :  7121\n"
     ]
    }
   ],
   "source": [
    "X_train, X_test, y_train, y_test = train_test_split(X, y, test_size=0.2, random_state=42, stratify=y)\n",
    "print(\"NUMBER OF TRAIN DATASET    : \", len(X_train))\n",
    "print(\"NUMBER OF TEST DATASET      : \", len(X_test))\n",
    "print(\"TOTAL NUMBER OF DATASET    : \", len(X_train)+len(X_test))"
   ]
  },
  {
   "cell_type": "code",
   "execution_count": 10,
   "id": "f93312ec-2d16-4831-ab55-0bff60b1f3e8",
   "metadata": {},
   "outputs": [
    {
     "data": {
      "text/html": [
       "<style>#sk-container-id-1 {color: black;background-color: white;}#sk-container-id-1 pre{padding: 0;}#sk-container-id-1 div.sk-toggleable {background-color: white;}#sk-container-id-1 label.sk-toggleable__label {cursor: pointer;display: block;width: 100%;margin-bottom: 0;padding: 0.3em;box-sizing: border-box;text-align: center;}#sk-container-id-1 label.sk-toggleable__label-arrow:before {content: \"▸\";float: left;margin-right: 0.25em;color: #696969;}#sk-container-id-1 label.sk-toggleable__label-arrow:hover:before {color: black;}#sk-container-id-1 div.sk-estimator:hover label.sk-toggleable__label-arrow:before {color: black;}#sk-container-id-1 div.sk-toggleable__content {max-height: 0;max-width: 0;overflow: hidden;text-align: left;background-color: #f0f8ff;}#sk-container-id-1 div.sk-toggleable__content pre {margin: 0.2em;color: black;border-radius: 0.25em;background-color: #f0f8ff;}#sk-container-id-1 input.sk-toggleable__control:checked~div.sk-toggleable__content {max-height: 200px;max-width: 100%;overflow: auto;}#sk-container-id-1 input.sk-toggleable__control:checked~label.sk-toggleable__label-arrow:before {content: \"▾\";}#sk-container-id-1 div.sk-estimator input.sk-toggleable__control:checked~label.sk-toggleable__label {background-color: #d4ebff;}#sk-container-id-1 div.sk-label input.sk-toggleable__control:checked~label.sk-toggleable__label {background-color: #d4ebff;}#sk-container-id-1 input.sk-hidden--visually {border: 0;clip: rect(1px 1px 1px 1px);clip: rect(1px, 1px, 1px, 1px);height: 1px;margin: -1px;overflow: hidden;padding: 0;position: absolute;width: 1px;}#sk-container-id-1 div.sk-estimator {font-family: monospace;background-color: #f0f8ff;border: 1px dotted black;border-radius: 0.25em;box-sizing: border-box;margin-bottom: 0.5em;}#sk-container-id-1 div.sk-estimator:hover {background-color: #d4ebff;}#sk-container-id-1 div.sk-parallel-item::after {content: \"\";width: 100%;border-bottom: 1px solid gray;flex-grow: 1;}#sk-container-id-1 div.sk-label:hover label.sk-toggleable__label {background-color: #d4ebff;}#sk-container-id-1 div.sk-serial::before {content: \"\";position: absolute;border-left: 1px solid gray;box-sizing: border-box;top: 0;bottom: 0;left: 50%;z-index: 0;}#sk-container-id-1 div.sk-serial {display: flex;flex-direction: column;align-items: center;background-color: white;padding-right: 0.2em;padding-left: 0.2em;position: relative;}#sk-container-id-1 div.sk-item {position: relative;z-index: 1;}#sk-container-id-1 div.sk-parallel {display: flex;align-items: stretch;justify-content: center;background-color: white;position: relative;}#sk-container-id-1 div.sk-item::before, #sk-container-id-1 div.sk-parallel-item::before {content: \"\";position: absolute;border-left: 1px solid gray;box-sizing: border-box;top: 0;bottom: 0;left: 50%;z-index: -1;}#sk-container-id-1 div.sk-parallel-item {display: flex;flex-direction: column;z-index: 1;position: relative;background-color: white;}#sk-container-id-1 div.sk-parallel-item:first-child::after {align-self: flex-end;width: 50%;}#sk-container-id-1 div.sk-parallel-item:last-child::after {align-self: flex-start;width: 50%;}#sk-container-id-1 div.sk-parallel-item:only-child::after {width: 0;}#sk-container-id-1 div.sk-dashed-wrapped {border: 1px dashed gray;margin: 0 0.4em 0.5em 0.4em;box-sizing: border-box;padding-bottom: 0.4em;background-color: white;}#sk-container-id-1 div.sk-label label {font-family: monospace;font-weight: bold;display: inline-block;line-height: 1.2em;}#sk-container-id-1 div.sk-label-container {text-align: center;}#sk-container-id-1 div.sk-container {/* jupyter's `normalize.less` sets `[hidden] { display: none; }` but bootstrap.min.css set `[hidden] { display: none !important; }` so we also need the `!important` here to be able to override the default hidden behavior on the sphinx rendered scikit-learn.org. See: https://github.com/scikit-learn/scikit-learn/issues/21755 */display: inline-block !important;position: relative;}#sk-container-id-1 div.sk-text-repr-fallback {display: none;}</style><div id=\"sk-container-id-1\" class=\"sk-top-container\"><div class=\"sk-text-repr-fallback\"><pre>RandomForestClassifier(random_state=42)</pre><b>In a Jupyter environment, please rerun this cell to show the HTML representation or trust the notebook. <br />On GitHub, the HTML representation is unable to render, please try loading this page with nbviewer.org.</b></div><div class=\"sk-container\" hidden><div class=\"sk-item\"><div class=\"sk-estimator sk-toggleable\"><input class=\"sk-toggleable__control sk-hidden--visually\" id=\"sk-estimator-id-1\" type=\"checkbox\" checked><label for=\"sk-estimator-id-1\" class=\"sk-toggleable__label sk-toggleable__label-arrow\">RandomForestClassifier</label><div class=\"sk-toggleable__content\"><pre>RandomForestClassifier(random_state=42)</pre></div></div></div></div></div>"
      ],
      "text/plain": [
       "RandomForestClassifier(random_state=42)"
      ]
     },
     "execution_count": 10,
     "metadata": {},
     "output_type": "execute_result"
    }
   ],
   "source": [
    "model = RandomForestClassifier(n_estimators=100, random_state=42)\n",
    "model.fit(X_train, y_train)"
   ]
  },
  {
   "cell_type": "code",
   "execution_count": 11,
   "id": "e3d430ff-603b-47c6-a227-ce04fe3eec02",
   "metadata": {},
   "outputs": [],
   "source": [
    "y_pred = model.predict(X_test)"
   ]
  },
  {
   "cell_type": "code",
   "execution_count": 12,
   "id": "9c078aef-3866-45dd-9cff-735e11872925",
   "metadata": {},
   "outputs": [
    {
     "name": "stdout",
     "output_type": "stream",
     "text": [
      "Model Accuracy: 0.9866666666666667\n",
      "\n",
      "Classification Report:\n",
      "               precision    recall  f1-score   support\n",
      "\n",
      "           0       0.98      1.00      0.99      1155\n",
      "           1       1.00      0.93      0.96       270\n",
      "\n",
      "    accuracy                           0.99      1425\n",
      "   macro avg       0.99      0.96      0.98      1425\n",
      "weighted avg       0.99      0.99      0.99      1425\n",
      "\n"
     ]
    }
   ],
   "source": [
    "print(\"Model Accuracy:\", accuracy_score(y_test, y_pred))\n",
    "print(\"\\nClassification Report:\\n\", classification_report(y_test, y_pred))"
   ]
  },
  {
   "cell_type": "code",
   "execution_count": 13,
   "id": "f7206319-b7c7-45cb-86ad-a40abf3ea238",
   "metadata": {},
   "outputs": [
    {
     "data": {
      "text/plain": [
       "['transactions.pkl']"
      ]
     },
     "execution_count": 13,
     "metadata": {},
     "output_type": "execute_result"
    }
   ],
   "source": [
    "import joblib\n",
    "joblib.dump(model, 'transactions.pkl')"
   ]
  }
 ],
 "metadata": {
  "kernelspec": {
   "display_name": "Python 3 (ipykernel)",
   "language": "python",
   "name": "python3"
  },
  "language_info": {
   "codemirror_mode": {
    "name": "ipython",
    "version": 3
   },
   "file_extension": ".py",
   "mimetype": "text/x-python",
   "name": "python",
   "nbconvert_exporter": "python",
   "pygments_lexer": "ipython3",
   "version": "3.9.18"
  }
 },
 "nbformat": 4,
 "nbformat_minor": 5
}
